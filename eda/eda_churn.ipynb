{
 "cells": [
  {
   "cell_type": "code",
   "execution_count": 1,
   "metadata": {},
   "outputs": [],
   "source": [
    "import pandas as pd"
   ]
  },
  {
   "cell_type": "markdown",
   "metadata": {},
   "source": [
    "# Create Dataframes from Datasets"
   ]
  },
  {
   "cell_type": "code",
   "execution_count": 2,
   "metadata": {},
   "outputs": [],
   "source": [
    "# Load Customers dataframes from CSV\n",
    "df_customers = pd.read_csv('datasets/churn_customers.csv', index_col='customerID')"
   ]
  },
  {
   "cell_type": "code",
   "execution_count": 3,
   "metadata": {},
   "outputs": [
    {
     "name": "stdout",
     "output_type": "stream",
     "text": [
      "            gender  SeniorCitizen Partner Dependents\n",
      "customerID                                          \n",
      "7590-VHVEG  Female              0     Yes         No\n",
      "5575-GNVDE    Male              0      No         No\n",
      "3668-QPYBK    Male              0      No         No\n",
      "7795-CFOCW    Male              0      No         No\n",
      "9237-HQITU  Female              0      No         No\n"
     ]
    }
   ],
   "source": [
    "# Show first 5 rows\n",
    "print(df_customers.head(5))"
   ]
  },
  {
   "cell_type": "code",
   "execution_count": 4,
   "metadata": {},
   "outputs": [
    {
     "name": "stdout",
     "output_type": "stream",
     "text": [
      "            gender  SeniorCitizen Partner Dependents\n",
      "customerID                                          \n",
      "6840-RESVB    Male              0     Yes        Yes\n",
      "2234-XADUH  Female              0     Yes        Yes\n",
      "4801-JZAZL  Female              0     Yes        Yes\n",
      "8361-LTMKD    Male              1     Yes         No\n",
      "3186-AJIEK    Male              0      No         No\n"
     ]
    }
   ],
   "source": [
    "# Show last 5 rows\n",
    "\n",
    "print(df_customers.tail(5))"
   ]
  },
  {
   "cell_type": "code",
   "execution_count": 5,
   "metadata": {},
   "outputs": [
    {
     "name": "stdout",
     "output_type": "stream",
     "text": [
      "<class 'pandas.core.frame.DataFrame'>\n",
      "Index: 7043 entries, 7590-VHVEG to 3186-AJIEK\n",
      "Data columns (total 4 columns):\n",
      " #   Column         Non-Null Count  Dtype \n",
      "---  ------         --------------  ----- \n",
      " 0   gender         7043 non-null   object\n",
      " 1   SeniorCitizen  7043 non-null   int64 \n",
      " 2   Partner        7043 non-null   object\n",
      " 3   Dependents     7043 non-null   object\n",
      "dtypes: int64(1), object(3)\n",
      "memory usage: 275.1+ KB\n"
     ]
    }
   ],
   "source": [
    "# Show schema of dataframe\n",
    "\n",
    "df_customers.info()"
   ]
  },
  {
   "cell_type": "code",
   "execution_count": 7,
   "metadata": {},
   "outputs": [],
   "source": [
    "# Load service from dataframe from CSV\n",
    "df_services = pd.read_csv('datasets/churn_services.csv', index_col='customerID')"
   ]
  },
  {
   "cell_type": "code",
   "execution_count": 8,
   "metadata": {},
   "outputs": [
    {
     "name": "stdout",
     "output_type": "stream",
     "text": [
      "           PhoneService     MultipleLines InternetService OnlineSecurity  \\\n",
      "customerID                                                                 \n",
      "7590-VHVEG           No  No phone service             DSL             No   \n",
      "5575-GNVDE          Yes                No             DSL            Yes   \n",
      "3668-QPYBK          Yes                No             DSL            Yes   \n",
      "7795-CFOCW           No  No phone service             DSL            Yes   \n",
      "9237-HQITU          Yes                No     Fiber optic             No   \n",
      "\n",
      "           OnlineBackup DeviceProtection TechSupport StreamingTV  \\\n",
      "customerID                                                         \n",
      "7590-VHVEG          Yes               No          No          No   \n",
      "5575-GNVDE           No              Yes          No          No   \n",
      "3668-QPYBK          Yes               No          No          No   \n",
      "7795-CFOCW           No              Yes         Yes          No   \n",
      "9237-HQITU           No               No          No          No   \n",
      "\n",
      "           StreamingMovies  \n",
      "customerID                  \n",
      "7590-VHVEG              No  \n",
      "5575-GNVDE              No  \n",
      "3668-QPYBK              No  \n",
      "7795-CFOCW              No  \n",
      "9237-HQITU              No  \n"
     ]
    }
   ],
   "source": [
    "# Shot first 5 rows\n",
    "print(df_services.head(5))"
   ]
  },
  {
   "cell_type": "code",
   "execution_count": 9,
   "metadata": {},
   "outputs": [
    {
     "name": "stdout",
     "output_type": "stream",
     "text": [
      "           PhoneService     MultipleLines InternetService OnlineSecurity  \\\n",
      "customerID                                                                 \n",
      "6840-RESVB          Yes               Yes             DSL            Yes   \n",
      "2234-XADUH          Yes               Yes     Fiber optic             No   \n",
      "4801-JZAZL           No  No phone service             DSL            Yes   \n",
      "8361-LTMKD          Yes               Yes     Fiber optic             No   \n",
      "3186-AJIEK          Yes                No     Fiber optic            Yes   \n",
      "\n",
      "           OnlineBackup DeviceProtection TechSupport StreamingTV  \\\n",
      "customerID                                                         \n",
      "6840-RESVB           No              Yes         Yes         Yes   \n",
      "2234-XADUH          Yes              Yes          No         Yes   \n",
      "4801-JZAZL           No               No          No          No   \n",
      "8361-LTMKD           No               No          No          No   \n",
      "3186-AJIEK           No              Yes         Yes         Yes   \n",
      "\n",
      "           StreamingMovies  \n",
      "customerID                  \n",
      "6840-RESVB             Yes  \n",
      "2234-XADUH             Yes  \n",
      "4801-JZAZL              No  \n",
      "8361-LTMKD              No  \n",
      "3186-AJIEK             Yes  \n"
     ]
    }
   ],
   "source": [
    "# Show last 5 rows\n",
    "print(df_services.tail(5))"
   ]
  },
  {
   "cell_type": "code",
   "execution_count": 10,
   "metadata": {},
   "outputs": [
    {
     "name": "stdout",
     "output_type": "stream",
     "text": [
      "<class 'pandas.core.frame.DataFrame'>\n",
      "Index: 7043 entries, 7590-VHVEG to 3186-AJIEK\n",
      "Data columns (total 9 columns):\n",
      " #   Column            Non-Null Count  Dtype \n",
      "---  ------            --------------  ----- \n",
      " 0   PhoneService      7043 non-null   object\n",
      " 1   MultipleLines     7043 non-null   object\n",
      " 2   InternetService   7043 non-null   object\n",
      " 3   OnlineSecurity    7043 non-null   object\n",
      " 4   OnlineBackup      7043 non-null   object\n",
      " 5   DeviceProtection  7043 non-null   object\n",
      " 6   TechSupport       7043 non-null   object\n",
      " 7   StreamingTV       7043 non-null   object\n",
      " 8   StreamingMovies   7043 non-null   object\n",
      "dtypes: object(9)\n",
      "memory usage: 550.2+ KB\n"
     ]
    }
   ],
   "source": [
    "# Show schema of churn_service dataframe \n",
    "df_services.info()"
   ]
  },
  {
   "cell_type": "code",
   "execution_count": 12,
   "metadata": {},
   "outputs": [],
   "source": [
    "# Load contract dataset CSV\n",
    "df_contract = pd.read_csv('datasets/churn_contracts.csv', index_col='customerID')"
   ]
  },
  {
   "cell_type": "code",
   "execution_count": null,
   "metadata": {},
   "outputs": [],
   "source": [
    "# Show first 5 rows\n",
    "print(df_contract.head(5))"
   ]
  },
  {
   "cell_type": "code",
   "execution_count": null,
   "metadata": {},
   "outputs": [],
   "source": [
    "# Show last 5 rows\n",
    "print(df_contract.tail(5))"
   ]
  },
  {
   "cell_type": "code",
   "execution_count": 13,
   "metadata": {},
   "outputs": [
    {
     "name": "stdout",
     "output_type": "stream",
     "text": [
      "<class 'pandas.core.frame.DataFrame'>\n",
      "Index: 7043 entries, 7590-VHVEG to 3186-AJIEK\n",
      "Data columns (total 7 columns):\n",
      " #   Column            Non-Null Count  Dtype  \n",
      "---  ------            --------------  -----  \n",
      " 0   tenure            7043 non-null   int64  \n",
      " 1   Contract          7043 non-null   object \n",
      " 2   PaperlessBilling  7043 non-null   object \n",
      " 3   PaymentMethod     7043 non-null   object \n",
      " 4   MonthlyCharges    7043 non-null   float64\n",
      " 5   TotalCharges      7043 non-null   object \n",
      " 6   Churn             7043 non-null   object \n",
      "dtypes: float64(1), int64(1), object(5)\n",
      "memory usage: 440.2+ KB\n"
     ]
    }
   ],
   "source": [
    "# Show schema of churn_contract dataframe\n",
    "df_contract.info()"
   ]
  }
 ],
 "metadata": {
  "kernelspec": {
   "display_name": "Python 3",
   "language": "python",
   "name": "python3"
  },
  "language_info": {
   "codemirror_mode": {
    "name": "ipython",
    "version": 3
   },
   "file_extension": ".py",
   "mimetype": "text/x-python",
   "name": "python",
   "nbconvert_exporter": "python",
   "pygments_lexer": "ipython3",
   "version": "3.9.6"
  }
 },
 "nbformat": 4,
 "nbformat_minor": 2
}
